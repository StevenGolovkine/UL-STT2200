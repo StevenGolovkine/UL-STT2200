{
  "cells": [
    {
      "cell_type": "markdown",
      "metadata": {},
      "source": [
        "--- \n",
        "title: \"Bonnes pratiques en Python\"\n",
        "format: \n",
        "  html: default\n",
        "  pdf:\n",
        "    number-sections: true\n",
        "    header-includes:\n",
        "      - \\usepackage{mathtools} \n",
        "---\n",
        "\n",
        "\n",
        "Cette page est inspirée sur ce [document](https://gist.github.com/ruimaranhao/4e18cbe3dad6f68040c32ed6709090a3).\n",
        "\n",
        "De même que R, Python est \"juste\" un langage de programmation, il est donc possible d'écrire du code Python dans un éditeur de texte et de lancer ce code via un terminal. Bien que ce soit faisable, il est plus simple d'utilser un éditeur de code. Bien qu'il soit techniquement possible d'utiliser RStudio comme éditeur pour Python, je vous recommanderais dans utiliser spécialiser comme *PyCharm*. Le format *notebook* est aussi très populaire en Python. Dans ce cas, je vous conseillerais la librarie `marimo` qui permet de transformer ses fichiers `.py` en notebook. \n",
        "\n",
        "De plus, il vaut mieux s'assurer de travailler avec la dernière version stable de Python comptatible avec les packages les utilisés (e.g. `numpy`, `matplotlib`, `sklearn`). En effet, très souvent, il y a un délai pour que les dernières versions des packages soient comptatibles avec la dernière version de Python. Il est donc important de partager la version des packages utilisés avec l'analyse.\n",
        "\n",
        "Concernant la documentation, le standard en Python est de suivre les recommendations du [PEP 257](https://peps.python.org/pep-0257/). La libraries [`Sphinx`](https://www.sphinx-doc.org/en/master/) permet de générer une documentation à partir des *docstring*.\n",
        "\n",
        "Une syntaxe uniforme rend un code beaucoup plus facile à lire et à comprendre. Un guide de style énonce des normes pour avoir une syntaxe uniforme. Le [guide de style](https://peps.python.org/pep-0008/) PEP 8 est recommandé en Python.\n",
        "\n",
        "**Retour à la ligne et indentation**\n",
        "\n",
        "L'indentation fait partie de Python, i.e. les blocks `if...else` et `for` sont définis grâce aux indentations. Il est possible d'utiliser un *tab* ou des *espaces*. Le choix vous appartient mais il est important d'être consistant dans votre code.\n",
        "\n",
        "**Convention de noms**\n",
        "\n",
        "L'utilisation des noms de variables avec un seul caractère est à éviter. Sinon, les variables, fonctions, méthodes, packages et modules sont nommés avec des lettres minuscules, des nombres et l'underscore `_`. Les classes et exceptions doivent être nommés avec des majuscules pour séparer les mots (`UneClasse`). Les constants sont en majuscules.\n",
        "\n",
        "**Organisation du code**\n",
        "\n",
        "De même que pour R, lorsque le code commence à devenir long, il devient avantageux de le séparer en plusieurs fichiers. Par exemple, on peut avoir un fichier par partie de l'analyse (un pour le nettoyage des données, un pour l'analyse, un pour la visualisation, ...). On peut aussi créer plusieurs sous-dosssiers.\n",
        "\n",
        "**Quelques trucs à faire**\n",
        "\n",
        "1. Ne pas faire de comparaison à `True`, `False` or `None`.\n"
      ],
      "id": "e33c4772"
    },
    {
      "cell_type": "code",
      "metadata": {},
      "source": [
        "#| echo: true\n",
        "#| eval: false\n",
        "if attr:\n",
        "    print(\"True!\")\n",
        "\n",
        "if not attr:\n",
        "    print(\"False!\")\n",
        "\n",
        "if attr is None:\n",
        "    print(\"None!\")"
      ],
      "id": "f3e26ebc",
      "execution_count": null,
      "outputs": []
    },
    {
      "cell_type": "markdown",
      "metadata": {},
      "source": [
        "2. Utiliser la compréhension de liste lorsque cela est possible.\n"
      ],
      "id": "f3879860"
    },
    {
      "cell_type": "code",
      "metadata": {},
      "source": [
        "#| echo: true\n",
        "#| eval: false\n",
        "a = [3, 4, 5]\n",
        "b = [i for i in a if i > 4]"
      ],
      "id": "880a22f3",
      "execution_count": null,
      "outputs": []
    },
    {
      "cell_type": "markdown",
      "metadata": {},
      "source": [
        "3. Charger un fichier avec `with`. Cela permet d'être sur que la connexion avec le fichier est fermé une fois qu'il a été lu.\n"
      ],
      "id": "bb8f8d41"
    },
    {
      "cell_type": "code",
      "metadata": {},
      "source": [
        "#| echo: true\n",
        "#| eval: false\n",
        "with open(\"file.txt\") as f:\n",
        "    read(f)"
      ],
      "id": "485c652b",
      "execution_count": null,
      "outputs": []
    },
    {
      "cell_type": "markdown",
      "metadata": {},
      "source": [
        "4. Utiliser un maximum de 80 caractères par ligne.\n",
        "\n",
        "5. Utiliser des parenthèses pour aller à la ligne dans les longues chaînes de caractères."
      ],
      "id": "c871d8ac"
    }
  ],
  "metadata": {
    "kernelspec": {
      "name": "test_pyspline_venv",
      "language": "python",
      "display_name": "Python 3.13 (test_pyspline_venv)",
      "path": "/Users/steven/Library/Jupyter/kernels/test_pyspline_venv"
    }
  },
  "nbformat": 4,
  "nbformat_minor": 5
}